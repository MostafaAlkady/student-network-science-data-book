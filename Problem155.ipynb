{
 "cells": [
  {
   "cell_type": "code",
   "execution_count": 13,
   "id": "c0576208-0d09-459d-98c2-db836b6e0206",
   "metadata": {},
   "outputs": [
    {
     "name": "stdout",
     "output_type": "stream",
     "text": [
      "Now at: 2\n",
      "Now at: 3\n",
      "Now at: 4\n",
      "Now at: 5\n",
      "Now at: 6\n",
      "Now at: 7\n",
      "Now at: 8\n",
      "Now at: 9\n"
     ]
    },
    {
     "data": {
      "text/plain": [
       "1530"
      ]
     },
     "execution_count": 13,
     "metadata": {},
     "output_type": "execute_result"
    }
   ],
   "source": [
    "def series(arr, i, j):\n",
    "    ''' calculates the equivalent capacitance of the two capacitors arr[i] and arr[j] in series '''\n",
    "    arr2 = arr.copy()\n",
    "    c1 = arr2[i]\n",
    "    c2 = arr2[j]\n",
    "    c_new = round(1 / (1 / c1 + 1 / c2), 5)\n",
    "    arr2.append(c_new)\n",
    "    arr2.remove(c1)\n",
    "    arr2.remove(c2)\n",
    "    return arr2\n",
    "\n",
    "def parallel(arr, i, j):\n",
    "    ''' calculates the equivalent capacitance of the two capacitors arr[i] and arr[j] in parallel '''\n",
    "    arr2 = arr.copy()\n",
    "    c1 = arr2[i]\n",
    "    c2 = arr2[j]\n",
    "    arr2.append(c1 + c2)\n",
    "    arr2.remove(c1)\n",
    "    arr2.remove(c2)\n",
    "    return arr2\n",
    "\n",
    "def iteration(arr):\n",
    "    ''' produces all possible combinations of every pair of capacitors in the array '''\n",
    "    poss = []\n",
    "    for i in range(len(arr)):\n",
    "        for j in range(i + 1, len(arr)):\n",
    "            poss.append(parallel(arr, i, j))\n",
    "            poss.append(series(arr, i, j))\n",
    "    \n",
    "    # remove repeated elements from the array\n",
    "    poss = list(set(map(tuple, poss)))\n",
    "    poss = [list(x) for x in poss]\n",
    "    return poss\n",
    "\n",
    "def flatten_array(arr):\n",
    "    ''' flatten an array completely '''\n",
    "    flattened = []\n",
    "    for item in arr:\n",
    "        if isinstance(item, list):\n",
    "            flattened.extend(flatten_array(item))\n",
    "        else:\n",
    "            flattened.append(item)\n",
    "    return flattened\n",
    "\n",
    "def configurations(n):\n",
    "    ''' returns number of possible configurations of n capacitors '''\n",
    "    arr = [60] * n\n",
    "    configs = iteration(arr)\n",
    "    for _ in range(n-2):\n",
    "        new_configs = []\n",
    "        for config in configs:\n",
    "            new_configs.append(iteration(config))\n",
    "        configs = new_configs\n",
    "        flattened = [[item[0]] if len(item) == 1 else item for sublist in new_configs for item in sublist]\n",
    "        configs = flattened\n",
    "\n",
    "    return list(set(flatten_array(configs)))\n",
    "\n",
    "def problem155(n):\n",
    "    ans = 1\n",
    "    for i in range(2, n + 1):\n",
    "        print(\"Now at:\", i)\n",
    "        ans += len(configurations(i))\n",
    "    return ans\n",
    "\n",
    "problem155(9)"
   ]
  },
  {
   "cell_type": "code",
   "execution_count": 1,
   "id": "79430209-d78b-403e-af95-b17b6736bf28",
   "metadata": {},
   "outputs": [
    {
     "name": "stdout",
     "output_type": "stream",
     "text": [
      "test this now\n"
     ]
    }
   ],
   "source": [
    "print('test this now')"
   ]
  },
  {
   "cell_type": "code",
   "execution_count": null,
   "id": "9a3e7f01-5aa4-4129-9be5-99cfcf8b9b92",
   "metadata": {},
   "outputs": [],
   "source": []
  }
 ],
 "metadata": {
  "kernelspec": {
   "display_name": "Python 3 (ipykernel)",
   "language": "python",
   "name": "python3"
  },
  "language_info": {
   "codemirror_mode": {
    "name": "ipython",
    "version": 3
   },
   "file_extension": ".py",
   "mimetype": "text/x-python",
   "name": "python",
   "nbconvert_exporter": "python",
   "pygments_lexer": "ipython3",
   "version": "3.12.4"
  }
 },
 "nbformat": 4,
 "nbformat_minor": 5
}
